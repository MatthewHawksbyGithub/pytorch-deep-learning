{
  "nbformat": 4,
  "nbformat_minor": 0,
  "metadata": {
    "colab": {
      "provenance": [],
      "authorship_tag": "ABX9TyMlVxvX2CbN22oiMiQPUP1V",
      "include_colab_link": true
    },
    "kernelspec": {
      "name": "python3",
      "display_name": "Python 3"
    },
    "language_info": {
      "name": "python"
    }
  },
  "cells": [
    {
      "cell_type": "markdown",
      "metadata": {
        "id": "view-in-github",
        "colab_type": "text"
      },
      "source": [
        "<a href=\"https://colab.research.google.com/github/MatthewHawksbyGithub/pytorch-deep-learning/blob/main/00_secondNotebook.ipynb\" target=\"_parent\"><img src=\"https://colab.research.google.com/assets/colab-badge.svg\" alt=\"Open In Colab\"/></a>"
      ]
    },
    {
      "cell_type": "code",
      "execution_count": null,
      "metadata": {
        "colab": {
          "base_uri": "https://localhost:8080/"
        },
        "id": "k5WXUViPYzm1",
        "outputId": "b5ae48a1-233b-4462-9a7c-860772659b06"
      },
      "outputs": [
        {
          "output_type": "stream",
          "name": "stdout",
          "text": [
            "2.0.1+cu118\n"
          ]
        },
        {
          "output_type": "execute_result",
          "data": {
            "text/plain": [
              "tensor(3)"
            ]
          },
          "metadata": {},
          "execution_count": 33
        }
      ],
      "source": [
        "import torch\n",
        "import pandas as pd\n",
        "import numpy as np\n",
        "import matplotlib.pyplot as plt\n",
        "print(torch.__version__)\n",
        "\n",
        "#second set of notes.\n",
        "\n",
        "### Common attibutes that can cause errors:\n",
        "#some_tensor.dtype\n",
        "#some_tensor.shape\n",
        "#some_tensor.device\n",
        "###\n",
        "#tensor = torch.tensor([[[1,2,3][1]],[[4,5,6][1]],[[8,9,10][1]]])\n",
        "#tensor2 = tensor\n",
        "#print(tensor.shape)\n",
        "#print((tensor *tensor2))\n",
        "#print(tensor+10)\n",
        "#print(tensor.shape)\n",
        "#print(tensor*10)\n",
        "#These two multiplication operations do the same thing.\n",
        "#print(torch.mul(tensor,10))\n",
        "#print(torch.matmul(tensor,tensor))\n",
        "#print(tensor - 10)\n",
        "\n",
        "#matmul and other built in operations are highly optimized.\n",
        "\n",
        "#One of the most common errors in deep learning is a shape error.\n",
        "\n",
        "#The INNER DIMENSIONS MUST MATCH.\n",
        "# (3,2) @ (2,3) Will work.\n",
        "# ()\n",
        "#The resulting matrix has the shape of the outer dimensions.\n",
        "\n",
        "tensor_A = torch.tensor([[1, 2],\n",
        "                        [3, 0],\n",
        "                         [5, 6]])\n",
        "#tensor_B = tensor_A *2\n",
        "#Cannot matmul here without transpose.\n",
        "\n",
        "#tensor_B = tensor_B.T #TRANSPOSE\n",
        "\n",
        "#print(torch.matmul(tensor_A,tensor_B))\n",
        "\n",
        "#FINDING MIN, MAX, MEAN, SUM, etc. (tensor aggregation)\n",
        "\n",
        "x = torch.arange(0,100,10)\n",
        "#torch.min(x)\n",
        "#torch.max(x)\n",
        "#torch.mean(x.type(torch.float32)) #CONVERTING THE TYPE for MEAN.\n",
        "#torch.sum(x)\n",
        "\n",
        "torch.argmin(tensor_A)\n",
        "#torch.argmax(x)\n",
        "\n",
        "\n",
        "##Reshaping, stacking, squeezing and unsqueezing."
      ]
    },
    {
      "cell_type": "markdown",
      "source": [
        "Manipulating Tensor Operations:\n",
        "Includes\n",
        "-Addition, Subtraction,\n",
        "Multiplication, Division,\n",
        "Matrix Multiplication.\n",
        "\n",
        "\n",
        "> Indented block\n",
        "\n"
      ],
      "metadata": {
        "id": "BuNZM3IeNU7A"
      }
    }
  ]
}