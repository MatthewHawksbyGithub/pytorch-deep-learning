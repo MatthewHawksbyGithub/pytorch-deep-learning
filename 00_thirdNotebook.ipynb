{
  "nbformat": 4,
  "nbformat_minor": 0,
  "metadata": {
    "colab": {
      "provenance": [],
      "authorship_tag": "ABX9TyNDHB/dRYP8hxFdTGj1HiL1",
      "include_colab_link": true
    },
    "kernelspec": {
      "name": "python3",
      "display_name": "Python 3"
    },
    "language_info": {
      "name": "python"
    }
  },
  "cells": [
    {
      "cell_type": "markdown",
      "metadata": {
        "id": "view-in-github",
        "colab_type": "text"
      },
      "source": [
        "<a href=\"https://colab.research.google.com/github/MatthewHawksbyGithub/pytorch-deep-learning/blob/main/00_thirdNotebook.ipynb\" target=\"_parent\"><img src=\"https://colab.research.google.com/assets/colab-badge.svg\" alt=\"Open In Colab\"/></a>"
      ]
    },
    {
      "cell_type": "code",
      "execution_count": 14,
      "metadata": {
        "colab": {
          "base_uri": "https://localhost:8080/"
        },
        "id": "k5WXUViPYzm1",
        "outputId": "8bdf1708-d8b4-427f-babe-02fa88073fc0"
      },
      "outputs": [
        {
          "output_type": "stream",
          "name": "stdout",
          "text": [
            "2.0.1+cu118\n",
            "tensor([1., 2., 3., 4., 5., 6., 7., 8., 9.]) torch.Size([9])\n"
          ]
        },
        {
          "output_type": "execute_result",
          "data": {
            "text/plain": [
              "tensor([[3, 6, 9]])"
            ]
          },
          "metadata": {},
          "execution_count": 14
        }
      ],
      "source": [
        "import torch\n",
        "import pandas as pd\n",
        "import numpy as np\n",
        "import matplotlib.pyplot as plt\n",
        "print(torch.__version__)\n",
        "\n",
        "# previous notes: argmin, argmax, matmul, mean, sum, transpose\n",
        "\n",
        "#Reshaping, stacking, squeezing and unsqueezing\n",
        "\n",
        "#RESHAPING shapes a tensor to a defined shape\n",
        "#VIEW- return a view of an input tensor of certain shape, but keeps the same\n",
        "#memory as the original tensor.\n",
        "#STACKING stacks tensors vertically or side by side.\n",
        "\n",
        "#torch stack stacks a sequence of tensors along a particular dimension.\n",
        "#vstack or hstack.\n",
        "\n",
        "#SQUEEZE removes all 1 dimensions from a tensor.\n",
        "#UNSQUEEZE adds a 1 dimension to a target tensor.\n",
        "#PERMUTE returns a view of the input tensor with dimensions permuted( swapped)\n",
        "#in a defined way.\n",
        "\n",
        "x = torch.arange(1., 10.,)\n",
        "print(x, x.shape)\n",
        "\n",
        "#x_reshaped = x.reshape(9,1)\n",
        "#print(x_reshaped, x_reshaped.shape) #converts\n",
        "\n",
        "#x_square_reshape = x.reshape(3,3)\n",
        "#print(x_square_reshape, x_square_reshape.shape)\n",
        "\n",
        "#Changing the view:\n",
        "\n",
        "#z = x.view(3,3)\n",
        "\n",
        "#views share memory with the original object\n",
        "\n",
        "#y = x\n",
        "\n",
        "#x_stacked = torch.stack([x,x,x,x], dim=0)\n",
        "#print(x_stacked, x_stacked.shape)\n",
        "\n",
        "#x_unsqueeze = torch.unsqueeze(x_stacked, dim=0)\n",
        "\n",
        "#x_unsqueeze = torch.unsqueeze(x_unsqueeze, dim=0)\n",
        "#print(x_unsqueeze, x_unsqueeze.shape)\n",
        "#print(x_unsqueeze.squeeze()) #Squeeze removes all single dimensions.\n",
        "\n",
        "#y = torch.permute(x_unsqueeze, (2,1,0,3))\n",
        "#print(y, y.shape)\n",
        "\n",
        "#PERMUTE is often used with image tensors.\n",
        "#if you have height, width, colour-channels, you can change the order of these.\n",
        "\n",
        "#x_unsqueeze[0][0][0] = torch.tensor([300,400,577,677,777,888,955,771,552])\n",
        "\n",
        "#print(y)\n",
        "\n",
        "#Above is an example of indexing.\n",
        "\n",
        "#Create a tensor.\n",
        "\n",
        "x = torch.arange(1,10).reshape(1,3,3)\n",
        "\n",
        "#Indexing on this tensor;\n",
        "\n",
        "# x[0,0] is the same as x[0][0]\n",
        "\n",
        "x[0,0,2] #Returns the third item in the first array in the first array of arrays.\n",
        "\n",
        "#Use colon to select all of a target dimension.\n",
        "\n",
        "x[:,:,2] #of all of the arrays of arrays, of all the arrays, return the oneth\n",
        "#element.\n",
        "\n",
        "\n"
      ]
    }
  ]
}