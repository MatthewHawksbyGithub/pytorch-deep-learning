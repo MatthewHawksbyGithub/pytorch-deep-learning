{
  "nbformat": 4,
  "nbformat_minor": 0,
  "metadata": {
    "colab": {
      "provenance": [],
      "gpuType": "T4",
      "authorship_tag": "ABX9TyPEVc53JVSOJdtSvjPFQgpQ",
      "include_colab_link": true
    },
    "kernelspec": {
      "name": "python3",
      "display_name": "Python 3"
    },
    "language_info": {
      "name": "python"
    }
  },
  "cells": [
    {
      "cell_type": "markdown",
      "metadata": {
        "id": "view-in-github",
        "colab_type": "text"
      },
      "source": [
        "<a href=\"https://colab.research.google.com/github/MatthewHawksbyGithub/pytorch-deep-learning/blob/main/00_firstnotebook.ipynb\" target=\"_parent\"><img src=\"https://colab.research.google.com/assets/colab-badge.svg\" alt=\"Open In Colab\"/></a>"
      ]
    },
    {
      "cell_type": "markdown",
      "source": [
        "## Sample Text cell\n"
      ],
      "metadata": {
        "id": "joqdaTNZE_cr"
      }
    },
    {
      "cell_type": "code",
      "source": [
        "import torch\n",
        "import pandas as pd\n",
        "import numpy as np\n",
        "import matplotlib.pyplot as plt\n",
        "print(torch.__version__)\n",
        "\n",
        "## Introduction to tensors\n",
        "\n",
        "### Creating tensors: scalar\n",
        "\n",
        "scalar =  torch.tensor(7)\n",
        "\n",
        "scalar\n",
        "\n",
        "#print(scalar.ndim) #returns 0\n",
        "\n",
        "##tensors.html on pytorch.org - resource to read.\n",
        "\n",
        "#print(scalar.item())# returns 7\n",
        "\n",
        "vector = torch.tensor([7,7])\n",
        "\n",
        "vector.ndim # returns 1\n",
        "\n",
        "print(vector.shape) #returns torch.Size([2])\n",
        "#2 by 1 elements.\n",
        "\n",
        "MATRIX = torch.tensor([[7,8],\n",
        "                        [8,9]])\n",
        "\n",
        "#Anytime numbers are encoded, they are encoded as a TENSOR.\n",
        "\n",
        "#print(MATRIX.ndim, MATRIX[0], MATRIX[1])\n",
        "#print(MATRIX.shape)\n",
        "\n",
        "#TENSOR = torch.tensor([[[1,2,3],\n",
        "#                        [4,5,6],\n",
        "#                        [7,8,9]],[\n",
        "#                       [2,3],[5,6]]])\n",
        "\n",
        "#TENSOR.shape\n",
        "\n",
        "### random tensors\n",
        "\n",
        "#Random tensors are important because the way many neural networks learn is\n",
        "#that they start with random numbers and then adjust those random numbers to\n",
        "#better represent the data.\n",
        "\n",
        "#To Create a random tensor of size 3,4\n",
        "#docs - torch.rand.html\n",
        "\n",
        "#random_tensor = torch.rand(1,1,1,4)\n",
        "\n",
        "#random_image_size_tensor =  torch.rand(size =(224,224,3))\n",
        "#random_image_size_tensor.shape\n",
        "\n",
        "#creating a tensor of all zeroes -> useful for masks.\n",
        "\n",
        "#zeros = torch.zeros(size=(3,4))\n",
        "#ones = torch.ones(size = (3,4))\n",
        "\n",
        "#ones.dtype #defaults to float32.\n",
        "\n",
        "#Use torch.arange()\n",
        "#torch.range(0,10,2)\n",
        "#torch.range(0,112,11)\n",
        "\n",
        "countingToTen = torch.arange(start=1,end=11,step=1) #returns a tensor.\n",
        "\n",
        "ten_zeros = torch.zeros_like(input=countingToTen)\n",
        "\n",
        "\n"
      ],
      "metadata": {
        "colab": {
          "base_uri": "https://localhost:8080/"
        },
        "id": "kGMuiu7jGSuK",
        "outputId": "ca4a587f-500d-4b7b-d224-c67b23be71cc"
      },
      "execution_count": 30,
      "outputs": [
        {
          "output_type": "stream",
          "name": "stdout",
          "text": [
            "2.0.1+cu118\n",
            "torch.Size([2])\n"
          ]
        },
        {
          "output_type": "execute_result",
          "data": {
            "text/plain": [
              "tensor([0, 0, 0, 0, 0, 0, 0, 0, 0, 0])"
            ]
          },
          "metadata": {},
          "execution_count": 30
        }
      ]
    },
    {
      "cell_type": "code",
      "source": [],
      "metadata": {
        "id": "ofQnowuCOZ0O"
      },
      "execution_count": null,
      "outputs": []
    }
  ]
}